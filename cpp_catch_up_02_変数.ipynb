{
  "nbformat": 4,
  "nbformat_minor": 0,
  "metadata": {
    "colab": {
      "provenance": [],
      "toc_visible": true
    },
    "kernelspec": {
      "name": "python3",
      "display_name": "Python 3"
    },
    "language_info": {
      "name": "python"
    }
  },
  "cells": [
    {
      "cell_type": "markdown",
      "source": [
        "# 変数と型\n"
      ],
      "metadata": {
        "id": "v2Bm49T62lhr"
      }
    },
    {
      "cell_type": "markdown",
      "source": [
        "## キーポイント\n",
        "\n",
        "* メモリは「メモ帳」のようなもので、変数は「メモ帳に書かれたメモ」に当たる\n",
        "* 「型」や「クラス」はデータの種類のことで、次のような種類がある\n",
        "   <table><tbody>\n",
        "   <thead><tr><th><font size=2>データの種類</font></th><th><font size=2>型の名前</font></th><th><font size=2>読みかた</th></tr></thead>\n",
        "   <tr><td><font size=3>整数</font></td><td><font size=3>int</td><td><font size=3>イント</td></tr>\n",
        "   <tr><td><font size=3>小数</font></td><td><font size=3>double</font></td><td><font size=3>ダブル</td></tr>\n",
        "   <tr><td><font size=3>文字列</font></td><td><font size=3>string</font></td><td><font size=3>ストリング</td></tr>\n",
        "   </tbody></table><br>\n",
        "* 変数を使うには「宣言(せんげん)」する必要がある<br>\n",
        "  変数の宣言は次のように書く\n",
        "  ```cpp\n",
        "  変数の型 変数名;\n",
        "  ```\n",
        "  例:\n",
        "  ```cpp\n",
        "  int number;\n",
        "  double real;\n",
        "  string text;\n",
        "  ```\n",
        "* 変数にデータを書き込む(代入する)には、`=`(イコール)記号を使って次のように書く\n",
        "(`=`は変数にデータを書き込む記号)\n",
        "\n",
        "  ```cpp\n",
        "  変数名 = データ、または別の変数名;\n",
        "  ```\n",
        "  例:\n",
        "  ```cpp\n",
        "  number = 123;\n",
        "  real = number;\n",
        "  text = \"xyz\";\n",
        "  ```\n"
      ],
      "metadata": {
        "id": "bCTG7NVn2p3i"
      }
    },
    {
      "cell_type": "markdown",
      "source": [
        "----\n",
        "\n",
        "## 1 変数\n",
        "\n",
        "----\n",
        "\n",
        "変数は「プログラムが必要とするデータを扱う」機能です。<br>\n",
        "変数の役割は、同じデータを何度も使えるように、「データに名前を付けてメモしておく」というものです。\n",
        "\n",
        "<img alt=\"変数をメモる\" src=\"https://raw.githubusercontent.com/tn-mai/cpp_catch_up/refs/heads/main/memo_int_number_10.png\" width=200 />\n",
        "\n",
        ">**【変数、オブジェクト、インスタンス、全部違うけど、全部同じ】**<br>\n",
        ">変数の別の呼び方として「オブジェクト」や「インスタンス」があります。<br>\n",
        ">これらの用語は微妙に異なる意味を持ちますが、最初のうちは全部同じだと思っておけば大丈夫です。<br>\n",
        ">一応説明すると、C++の場合、用語のおおよその意味は次のようになります(覚えなくていいです)。<br>\n",
        ">また、他の言語では、これとは違った意味の場合があります。<br>\n",
        ">* オブジェクト: データを記録するために予約されたコンピュータのメモリ領域(メモの本体)\n",
        ">* 変数: オブジェクトをプログラムで扱うための名前(メモの名前)\n",
        ">* インスタンス: ある型を持つオブジェクトのこと(メモの種類)\n"
      ],
      "metadata": {
        "id": "345KkZql38Vn"
      }
    },
    {
      "cell_type": "markdown",
      "source": [
        "### 1.1 宣言\n",
        "\n",
        "変数を使うには、最初に変数を「宣言(せんげん)」する必要があります。変数の宣言は次のように書きます。\n",
        "\n",
        "```cpp\n",
        "データの種類 変数の名前;\n",
        "```\n",
        "\n",
        "<img alt=\"変数宣言をメモ\" src=\"https://raw.githubusercontent.com/tn-mai/cpp_catch_up/refs/heads/main/memo_int_number_uninitialized.png\" width=200 />\n",
        "\n",
        "「データの種類」は「型(かた)」や「クラス」と呼ばれます。例えば`int`(イント)は「整数データをあらわす型」です。<br>\n",
        "そして、「変数の名前」のことを「変数名(へんすうめい)」と言います。\n",
        "\n",
        "次のプログラムでは、`int`型の`number`という変数名の変数を宣言しています。\n",
        "\n",
        "```cpp\n",
        "int number;\n",
        "```\n"
      ],
      "metadata": {
        "id": "lx1xPBw5LIym"
      }
    },
    {
      "cell_type": "markdown",
      "source": [
        "### 1.2 代入\n",
        "\n",
        "宣言した変数にデータをメモするには、以下のように`=`を使います。これを「代入(だいにゅう)」といいます。\n",
        "\n",
        "```cpp\n",
        "number = 10;\n",
        "```\n",
        "\n",
        "<img alt=\"変数宣言をメモ\" src=\"https://raw.githubusercontent.com/tn-mai/cpp_catch_up/refs/heads/main/memo_int_number_assignment.png\" width=420 /><br>\n",
        "&emsp;&emsp;&emsp;&emsp;&emsp;&emsp;↓<br>\n",
        "<img alt=\"変数宣言をメモ\" src=\"https://raw.githubusercontent.com/tn-mai/cpp_catch_up/refs/heads/main/memo_int_number_10.png\" width=200 />\n",
        "\n",
        "これで`number`という名前の変数に`10`が書き込まれます(`10`が`number`にコピーされる、ともいいます)。<br>\n",
        "また、この`10`のように、変数に書き込む数値や文章のことを、「データ」または「値（あたい）」といいます。\n",
        "\n",
        "> 算数や数学では`=`記号を「代入」と「等しい」の２つの意味で使いますが、C++の`=`記号の意味は「代入」だけです。<br>\n",
        ">「等しい」という意味を表すには`==`を使う必要があります。`==`については別の機会に説明します。\n"
      ],
      "metadata": {
        "id": "sGchp1xALGBa"
      }
    },
    {
      "cell_type": "markdown",
      "source": [
        "### 1.3 変数の初期化\n",
        "\n",
        "変数の宣言と代入は同時に行うこともできます。\n",
        "\n",
        "```cpp\n",
        "int number = 10;\n",
        "```\n",
        "\n",
        "変数の宣言と同時に値を代入することを「初期化(しょきか)」といいます。<br>\n",
        "上のプログラムでは、変数`number`を宣言し、`10`という値で初期化しています。\n",
        "\n",
        "<img alt=\"変数宣言をメモ\" src=\"https://raw.githubusercontent.com/tn-mai/cpp_catch_up/refs/heads/main/memo_int_number_10.png\" width=200 />\n",
        "\n"
      ],
      "metadata": {
        "id": "Au0Z2ybPK9y9"
      }
    },
    {
      "cell_type": "markdown",
      "source": [
        "### 1.4 読み出し\n",
        "\n",
        "変数を代入以外の場所で使うと、変数に書き込まれたデータが読み出されます。<vbr>\n",
        "例えば、変数にメモした値を読み出しで出力するには、次のようにプログラムします。\n",
        "\n",
        "**コード**\n",
        "\n",
        "```cpp\n",
        "#include <iostream>\n",
        "using namespace std;\n",
        "\n",
        "int main() {\n",
        "  int number;\n",
        "  number = 10;\n",
        "  cout << number << endl; // 10 が出力される\n",
        "}\n",
        "```\n",
        "\n",
        "**実行結果**\n",
        "\n",
        "```txt\n",
        "10\n",
        "```\n",
        "\n",
        "変数の値を読み書きすることを「変数にアクセスする」ということもあります。"
      ],
      "metadata": {
        "id": "voLuj1wWLDJD"
      }
    },
    {
      "cell_type": "markdown",
      "source": [
        "### 1.5 変数を代入するとコピーされる\n",
        "\n",
        "`変数1 = 変数2;`のように書いた場合、変数の値そのものがコピーされます。その後、どちらかの変数の値が変更されても、もう片方の変数は影響を受けません。\n",
        "\n",
        "**コード**\n",
        "\n",
        "```cpp\n",
        "#include <iostream>\n",
        "using namespace std;\n",
        "\n",
        "int main() {\n",
        "\n",
        "  int a = 10;\n",
        "  int b;\n",
        "  b = a; // aの値がコピーされ、bに10が代入される\n",
        "  a = 5; // aの値は5に書き換わるが、bは10のまま\n",
        "\n",
        "  cout << \"a=\" << a << endl; // 5が出力される\n",
        "  cout << \"b=\" << b << endl; // 10が出力される\n",
        "}\n",
        "```\n",
        "\n",
        "**実行結果**\n",
        "\n",
        "```txt\n",
        "a=5\n",
        "b=10\n",
        "```\n",
        "\n",
        "`b = a`というのは「メモaの内容をメモbに上書きする」という動作だと考えてください。\n",
        "\n",
        "<img alt=\"変数宣言をメモ\" src=\"https://raw.githubusercontent.com/tn-mai/cpp_catch_up/refs/heads/main/memo_int_assignment_a_to_b_1.png\" width=420 /><br>\n",
        "&emsp;&emsp;&emsp;&emsp;&emsp;&emsp;&emsp;&emsp;&emsp;&emsp;&emsp;&emsp;&emsp;↓<br>\n",
        "<img alt=\"変数宣言をメモ\" src=\"https://raw.githubusercontent.com/tn-mai/cpp_catch_up/refs/heads/main/memo_int_assignment_a_to_b_2.png\" width=420 /><br>\n",
        "&emsp;&emsp;&emsp;&emsp;&emsp;&emsp;&emsp;&emsp;&emsp;&emsp;&emsp;&emsp;&emsp;↓<br>\n",
        "<img alt=\"変数宣言をメモ\" src=\"https://raw.githubusercontent.com/tn-mai/cpp_catch_up/refs/heads/main/memo_int_assignment_a_to_b_3.png\" width=640 /><br>\n",
        "&emsp;&emsp;&emsp;&emsp;&emsp;&emsp;&emsp;&emsp;&emsp;&emsp;&emsp;&emsp;&emsp;↓<br>\n",
        "<img alt=\"変数宣言をメモ\" src=\"https://raw.githubusercontent.com/tn-mai/cpp_catch_up/refs/heads/main/memo_int_assignment_a_to_b_4.png\" width=420 /><br>\n"
      ],
      "metadata": {
        "id": "95a0Wac4K6zK"
      }
    },
    {
      "cell_type": "markdown",
      "source": [
        "### 1.6 複数の変数を同時に宣言する\n",
        "\n",
        "`,`(カンマ)記号を使うことで、複数の変数を同時に宣言することもできます。\n",
        "\n",
        "**コード**\n",
        "\n",
        "```cpp\n",
        "#include <iostream>\n",
        "using namespace std;\n",
        "\n",
        "int main() {\n",
        "\n",
        "  int a = 10, b = 5;\n",
        "\n",
        "  cout << a << endl; // 10が出力される\n",
        "  cout << b << endl; // 5が出力される\n",
        "}\n",
        "```\n",
        "\n",
        "**実行結果**\n",
        "\n",
        "```txt\n",
        "10\n",
        "5\n",
        "```\n",
        "\n",
        "`int a = 10, b = 5`の部分は、次のように行を分けて書いた場合と同じ意味になります。\n",
        "\n",
        "```cpp\n",
        "int a = 10;\n",
        "int b = 5;\n",
        "```\n"
      ],
      "metadata": {
        "id": "ZHyRk8fMK2bL"
      }
    },
    {
      "cell_type": "markdown",
      "source": [
        "### 1.7 変数名のルール\n",
        "\n",
        "変数名はかなり自由に決められますが、次に示すルールを守る必要があります。<br>\n",
        "変数名がひとつでもこのルールに違反する場合、コンパイルエラーになります。\n",
        "\n",
        "1. 変数名に使える文字は英数字、`_`(アンダーバー)だけ。※`_`以外の記号(`-`や`@`など)は使えません。\n",
        "\n",
        "2. 最初の文字は英字または`_`(アンダーバー)でなくてはならない。※数字で始まる名前は使えません。\n",
        "3. C++のキーワードではない。※「キーワード」は、C++で予約されている単語(`int`や`for`など)です。\n",
        "\n",
        "エラーになる名前の例をいくつか示します。\n",
        "\n",
        "```cpp\n",
        "int 10count; // 数字で始まる名前にはできない\n",
        "int na+me;   // 変数名に+を使うことはできない\n",
        "int int;     // intはキーワードなので変数名にできない\n",
        "```\n",
        "\n",
        "以下のような名前はエラーになりません(変数名にできます)。\n",
        "\n",
        "```cpp\n",
        "int count10;  // 2文字目以降は数字にできる\n",
        "int na_me;    // アンダーバーは変数名に使える\n",
        "int Int;      // 大文字と小文字は区別されるので、intとIntは違う名前になる\n",
        "```\n",
        "\n",
        "キーワードには一般的な英単語もいくつか含まれます。そのため、変数名を決めようとして「え、これキーワードなの？」となる可能性は否定できません。とはいえ、最近の開発環境では、キーワードを書くと色が付くのですぐに気づくと思います。<br>\n",
        "ですから、キーワードについてはあまり気にする必要は無いでしょう。"
      ],
      "metadata": {
        "id": "lIjVLXKFKzof"
      }
    },
    {
      "cell_type": "markdown",
      "source": [
        "### 1.8 同じ名前の変数は宣言できない\n",
        "\n",
        "同じ名前の変数を複数宣言することはできません。\n",
        "\n",
        "```cpp\n",
        "#include <iostream>\n",
        "using namespace std;\n",
        "\n",
        "int main() {\n",
        "  int a = 0;\n",
        "  int a = 5; // この行でコンパイルエラーになる\n",
        "\n",
        "  cout << a << endl;\n",
        "}\n",
        "```\n",
        "\n",
        "このプログラムをビルドすると、次のようなコンパイルエラーが出力されます。\n",
        "\n",
        "```txt\n",
        "./Main.cpp: In function ‘int main()’:\n",
        "./Main.cpp:6:9: error: redeclaration of ‘int a’\n",
        "     int a = 5; // この行でコンパイルエラーになる\n",
        "         ^\n",
        "./Main.cpp:5:9: note: ‘int a’ previously declared here\n",
        "     int a = 0;\n",
        "         ^\n",
        "```\n",
        "\n",
        "２行目に`error: redeclaration of ‘int a’`というエラーメッセージが表示されています(`redeclaration`(リ・デクラレーション)は「再宣言」という意味)。つまり、この行は「`Main.cpp`の6行目で`int a`が再び宣言されました」というエラーを報告しているのです。\n",
        "\n",
        "また、その下の`note: ‘int a’ previously declared here`は「`int a`は以前ここで宣言されています」という意味です(`previously`は「前に」という意味)。エラー発生位置を見ると`Main.cpp:5:9`なので、`Main.cpp`の5行目で変数宣言していたことが分かります。\n",
        "\n",
        ">このテキストでは説明しませんが、「スコープ」という機能を使うと、同じ名前の変数を宣言できます。"
      ],
      "metadata": {
        "id": "0dk3qI18KwQ1"
      }
    },
    {
      "cell_type": "markdown",
      "source": [
        "### 1.9 変数名の決めかた\n",
        "\n",
        "変数名は、ここまでに示したルールに従うかぎり自由に決められます。<br>\n",
        "といっても、慣れないうちは、どんな名前を付けたらいいか迷うことが多いと思います。\n",
        "\n",
        "基本的には、「変数に代入する情報を意味する単語」を名前にします。<br>\n",
        "英単語が望ましいですが、思いつかない場合は日本語のローマ字表記でも構いません。\n",
        "\n",
        "以下に、いくつか例を挙げます。\n",
        "\n",
        "| 情報 | 変数の名前(英語) | 変数の名前(ローマ字) |\n",
        "|:-----|:-----------------|:---------------------|\n",
        "| 人やモノの数 | count, number | kazu, ninzu |\n",
        "| 得点   | score | tokuten |\n",
        "| 最大値 | max_value | saidai |\n",
        "| 最小値 | min_value | saisyo |\n",
        "| 体力   | hit_point, hp, health | tairyoku |\n",
        "| 名前   | name | namae |\n",
        "\n",
        "\n",
        "名前が全く思いつかない場合は、とりあえず`a`とか`b`と名付けても構いません。AIに名前を提案してもらう方法もあります。\n",
        "\n",
        ">場合によっては、単語の頭文字だけを使うこともあります。<br>\n",
        ">例えば「数」をあらわす変数名に`n`(`number`の頭文字)を使うなどです。"
      ],
      "metadata": {
        "id": "-kiqOkUc-PdO"
      }
    },
    {
      "cell_type": "markdown",
      "source": [
        "----\n",
        "\n",
        "## 2 型\n",
        "\n",
        "----\n",
        "\n",
        "型(かた)は「データの種類」をあらわすプログラミング用語です。C++には、整数をあらわす`int`以外にもさまざまな型があります。\n",
        "\n",
        "以下に、よく使われる型の一部を示します。\n",
        "\n",
        "| データの種類 | 型の名前 | 読みかた       |  例 |\n",
        "|:---------|:---------------|:-------------|:---|\n",
        "| 整数(符号付き整数)     | int          | イント               | 0, 1, 842, -57, -99999999 |\n",
        "| 正の整数(符号なし整数) | unsigned int | アンサインド・イント | 0, 1, 47, 9999999 |\n",
        "| 小数（浮動小数点数）   | double       | ダブル               | 0.0, 1.0, 3.14, 0.000001, -0.875 |\n",
        "| 文字                   | char         | チャー、キャラ       | 'a', 'b', 'z', '@', '+', '#' |\n",
        "| 文字列                 | string       | ストリング           | \"abc\", \"Hello\", \"あいうえお\" |\n",
        "\n",
        "`char`型は、'a'や'-'のように、1つの文字を`'`(シングルクォーテーション)記号で囲ったデータを代入できます。`'`記号で囲ったデータのことを「文字」といいます。\n",
        "\n",
        "`string`型は、\"abc\"や\"Hello, World\"のように、単語や文章を`\"`(ダブルクォーテーション)記号で囲ったデータを代入できます。`\"`記号で囲ったデータのことを「文字列」といいます。\n",
        "\n",
        "**コード**\n",
        "\n",
        "```cpp\n",
        "#include <iostream>\n",
        "#include <string>\n",
        "using namespace std;\n",
        "\n",
        "int main() {\n",
        "  // 変数の宣言\n",
        "  int a;\n",
        "  double b;\n",
        "  char c;\n",
        "  string d;\n",
        "\n",
        "  // 代入\n",
        "  a = 10;\n",
        "  b = 0.5;\n",
        "  c = 'A';\n",
        "  d = \"Hello\";\n",
        "\n",
        "  // 変数の宣言と初期化\n",
        "  int e = 20;\n",
        "  double f = 0.25;\n",
        "  char g = 'C';\n",
        "  string h = \"World\";\n",
        "\n",
        "  cout << a + e << endl; // 30 が出力される\n",
        "  cout << b + f << endl; // 0.75 が出力される\n",
        "  cout << c << g << endl; // AC が出力される\n",
        "  cout << d << h << endl; // Hello, World が出力される\n",
        "}\n",
        "```\n",
        "\n",
        "**実行結果**\n",
        "\n",
        "```txt\n",
        "30\n",
        "0.75\n",
        "AC\n",
        "HelloWorld\n",
        "```\n"
      ],
      "metadata": {
        "id": "SkCz0HmS6_WU"
      }
    },
    {
      "cell_type": "markdown",
      "source": [
        "### 2.1 変数と文字列\n",
        "\n",
        "「`\"`(ダブルクォーテーション)記号で囲んだ単語」は文字列になり、変数とは区別されます。変数の値を出力したい場合は、`\"`で囲まないでください。\n",
        "\n",
        "**コード**\n",
        "\n",
        "```cpp\n",
        "#include <iostream>\n",
        "#include <string>\n",
        "using namespace std;\n",
        "\n",
        "int main() {\n",
        "  int number = 123;\n",
        "  cout << number << endl;   // 変数のデータ 123 が出力される\n",
        "  cout << \"number\" << endl; // 文字列 number が出力される\n",
        "\n",
        "  string text = \"This is a string.\";\n",
        "  cout << text << endl;     // 変数のデータ This is a string. が出力される\n",
        "  cout << \"text\" << endl;   // 文字列 text が出力される\n",
        "}\n",
        "```\n",
        "\n",
        "**実行結果**\n",
        "\n",
        "```txt\n",
        "123\n",
        "number\n",
        "This is a string.\n",
        "text\n",
        "```\n"
      ],
      "metadata": {
        "id": "DV5y4QXqqtbF"
      }
    },
    {
      "cell_type": "markdown",
      "source": [
        "### 2.2 異なる型を混ぜて計算する\n",
        "\n",
        "数値を扱う型であれば、型が違っても混ぜて式を作れます。計算結果の型は「より大きな値を表現できる側の型」になります。<br>\n",
        "例えば、`int`型と`double`型の計算結果は`double`型になります。これは「型変換(かたへんかん)」と呼ばれます。\n",
        "\n",
        "`string`型は少し特殊で、「`string`同士の加算」だけが可能です。減算や乗算、除算はできません。<br>\n",
        "`string`型同士を加算すると、2つの文字列をつなげた新しい文字列が作られます。\n",
        "\n",
        ">数値型と文字列型を式に混ぜることはできません。もし混ぜてしまうとコンパイルエラーになります。\n",
        "\n",
        "**コード**\n",
        "\n",
        "```cpp\n",
        "#include <iostream>\n",
        "#include <string>\n",
        "using namespace std;\n",
        "\n",
        "int main() {\n",
        "  int i = 31;\n",
        "  double d = 1.5;\n",
        "  string s = \"20\";\n",
        "  string t = \"25\";\n",
        "\n",
        "  cout << i + d << endl;     // 32.5が出力される\n",
        "  cout << i / 2 << endl;     // 15が出力される(小数点以下切り捨て)\n",
        "  cout << i * d / 2 << endl; // 23.25が出力される(小数点以下も残る)\n",
        "  cout << s + t << endl;     // 2025が出力される\n",
        "\n",
        "  // 以下のプログラムはエラーになる\n",
        "  // cout << s + i << endl; // string型とint型\n",
        "  // cout << d + s << endl; // double型とstring型\n",
        "}\n",
        "```\n",
        "\n",
        "**実行結果**\n",
        "\n",
        "```txt\n",
        "32.5\n",
        "15\n",
        "23.25\n",
        "2025\n",
        "```\n",
        "\n",
        "計算の途中に`double`型のデータが入ってくるかどうかで、小数点以下を切り捨てるかどうかが変わってきます。<br>\n",
        "`string`型と`int`型や、`string`型と`double`型のように、変換できない型を同じ式に入れてしまうとエラーになります。\n",
        "\n",
        "それから、数値と文字列も違う型のデータになります。\n",
        "\n",
        "**コード**\n",
        "\n",
        "```cpp\n",
        "#include <iostream>\n",
        "using namespace std;\n",
        "\n",
        "int main() {\n",
        "  cout << 123 << endl;           // 数値 123 が(文字列に変換されて)出力される\n",
        "  cout << \"123\" << endl;         // 文字列 123 が直接出力される\n",
        "  //cout << 123 + \"123\" << endl; // エラー. 数値と文字列は計算できない\n",
        "}\n",
        "```\n",
        "\n",
        "**実行結果**\n",
        "\n",
        "```txt\n",
        "123\n",
        "123\n",
        "```\n",
        "\n",
        "どちらも123が出力されますが、型が異なるため計算はできません。\n"
      ],
      "metadata": {
        "id": "mIkn-xPGJavf"
      }
    },
    {
      "cell_type": "markdown",
      "source": [
        "### 2.3 異なる型同士の代入\n",
        "\n",
        "異なる型同士の代入でも型変換が発生します。変換できない型同士の代入はコンパイルエラーになります。\n",
        "\n",
        "**コード**\n",
        "\n",
        "```cpp\n",
        "#include <iostream>\n",
        "#include <string>\n",
        "using namespace std;\n",
        "\n",
        "int main() {\n",
        "  int i = 10;\n",
        "  double d = 1.5;\n",
        "  string s = \"Hello\";\n",
        "\n",
        "  i = d; // doubleとintは互いに代入できる(小数点以下切り捨て)\n",
        "  // i = s; // エラー(int型とstring型は互いに代入できない)\n",
        "\n",
        "  cout << i << endl;\n",
        "}\n",
        "```\n",
        "\n",
        "**実行結果**\n",
        "\n",
        "```txt\n",
        "1\n",
        "```\n",
        "\n",
        "`double`型と`int`型はどちらも数値型なので、互いに代入できます。<br>\n",
        "ただし、`double`型を`int`型に変換したときは小数点以下切り捨てになります(`int`型は小数を表現できないため)。"
      ],
      "metadata": {
        "id": "Ug7yabOSJVbT"
      }
    },
    {
      "cell_type": "markdown",
      "source": [
        "### 2.4 初期化する前の変数の値\n",
        "\n",
        "初期化する前のint型やdouble型の変数の値は決められていません。<br>\n",
        "そのため、初期化してない変数を読み込んだとき、どのような値になるかは分かりません。\n",
        "\n",
        "次のプログラムは、初期化する前の変数の値を読み込む例です。\n",
        "\n",
        "```cpp\n",
        "#include <iostream>\n",
        "using namespace std;\n",
        "\n",
        "int main() {\n",
        "  int number;\n",
        "  cout << number << endl; //なにが出力されるかわからない\n",
        "}\n",
        "```\n",
        "\n",
        "うっかり変数の初期化を忘れて、このプログラムのような状況になることがあります。<br>\n",
        "「初期化忘れ」は重大なバグの原因になりやすいので、最近のコンパイラは「この変数、初期化されていませんよ」と教えてくれます。<br>\n",
        "初期化忘れがあると、以下のような「警告メッセージ」が出力されます。\n",
        "\n",
        "```txt\n",
        "Main.cpp: In function ‘int main()’:\n",
        "Main.cpp:6:11: warning: ‘number’ is used uninitialized [-Wuninitialized]\n",
        "    6 |   cout << number << endl; //なにが出力されるかわからない\n",
        "      |\n",
        "```\n",
        "\n",
        "`warning`(ワーニング)は「警告」という意味で、これがエラーではなく警告に過ぎないことを示します。`‘number’ is used uninitialized`は「初期化されていない変数`number`が使われている」という意味です(`uninitialized`(アン・イニシャライズドは「初期化されていない」という意味)。\n",
        "\n",
        "警告はエラーではないのですが、現実には「論理エラーの原因」になっていることが多いです。そのため、警告はエラーと同じだと考えて、問題を修正するべきです。\n",
        "\n",
        ">より厳密には「初期化する前の変数の値は、宣言するより前の処理内容で決まります」。そのため、「運良く`0`が代入されていて、プログラムが正しく動作しているように見える」ことがあります。しかし、これは運が良かっただけです。初期化忘れの警告に気づいたら、すぐに初期化を追加して修正しましょう。"
      ],
      "metadata": {
        "id": "dlQKxQPsJPIv"
      }
    },
    {
      "cell_type": "markdown",
      "source": [
        "### 2.5 組み込み型と複合型\n",
        "\n",
        "`string`型の変数は例外で、初期化しなかった場合は自動的に`\"\"`(空の文字列)で初期化されます。<br>\n",
        "これは、`string`型が「複合型」だからです。\n",
        "\n",
        "C++の型には、次の２種類があります。\n",
        "\n",
        "* 組み込み型: ヘッダファイルをインクルードしなくても使える。「基本型」とも呼ばれる。\n",
        "* 複合型: ヘッダファイルをインクルードして使う型や、プログラマが定義する型。「組み込み型」以外すべて。\n",
        "\n",
        "「組み込み型」の変数は、初期化しない限り何が書かれているか分かりません。<br>\n",
        "対して「複合型」の変数を初期化しなかった場合、型ごとに決まった値が自動で書き込まれます。"
      ],
      "metadata": {
        "id": "bDFp1Z_OJKhL"
      }
    },
    {
      "cell_type": "markdown",
      "source": [
        "### 2.6 定数\n",
        "\n",
        "変数を宣言するとき、型の前(または後ろ)に`const`(コンスト)キーワードを付けると、その変数は変更不能な「定数(ていすう)」になります。\n",
        "\n",
        ">`const`は`constant`(コンスタント、「変化しない、継続的な」という意味)の省略形です。\n",
        "\n",
        "**コード**\n",
        "\n",
        "```cpp\n",
        "#include <iostream>\n",
        "using namespace std;\n",
        "\n",
        "int main() {\n",
        "  const int a = 10; // 定数\n",
        "  cout << a << endl;\n",
        "}\n",
        "```\n",
        "\n",
        "**実行結果**\n",
        "\n",
        "```txt\n",
        "10\n",
        "```\n",
        "\n",
        "定数は必ず初期化が必要です。初期化せずに宣言するとエラーになります。\n",
        "\n",
        "```cpp\n",
        "const int a; // エラー. 初期化していない\n",
        "```\n",
        "\n",
        "定数は上書きできません。定数にデータを代入しようとするとエラーになります。\n",
        "\n",
        "```cpp\n",
        "const int a = 10;\n",
        "a = 5;               // エラー. 定数には代入できない\n",
        "a += 1;              // エラー. これはa = a + 1と同じ. 定数には代入できない\n",
        "int b = a + 1;       // OK. 他の変数に代入することは可能\n",
        "const int c = b + 3; // OK. 変数を定数に代入することは可能\n",
        "```\n",
        "\n",
        "定数は、書き換えられると困るデータをあらわすために使います。<br>\n",
        "例えば、得点の上限を`const int limit_score = 100;`とあらわすことができます。\n",
        "\n",
        ">**【constとconstexpr】**<br>\n",
        ">C++には、`const`と似た名前の`constexpr`(コンスト・エクスプル)というキーワードがあります。<br>\n",
        ">`constexpr`キーワードは「コンパイル時定数式」というものを定義します。<br>\n",
        ">`const`のように使える場面もありますが、機能的には全く異なります。当面は使う必要はないでしょう。"
      ],
      "metadata": {
        "id": "_9TLLB_ODu1k"
      }
    },
    {
      "cell_type": "markdown",
      "source": [
        "----\n",
        "\n",
        "## 3 練習問題\n",
        "\n",
        "----\n",
        "\n",
        "以下の手順にしたがって、4つのプログラムを完成させなさい。\n",
        "\n",
        "1. `%%writefile ...`の下の行からがプログラムです。問題文に従ってプログラムを修正、または追加してください。\n",
        "2. プログラムを修正したら、セルの右側にある`▶`をクリックします。すると、ファイルが保存されます。\n",
        "3. 「動作テスト」セルの`▶`をクリックすると、2で保存したファイルがコンパイル＆実行され、実行結果が表示されます。<br>\n",
        "   このセルは、修正したプログラムの動作を確認するために使ってください。\n",
        "4. 「実行」セルの`▶`をクリックすると、2で保存したファイルがコンパイル＆実行され、結果の成否が判定されます。\n",
        "5. 判定に成功したら`AC`と表示されます。次の問題に進んでください。\n",
        "6. 失敗したら`WA`と表示されます(その前にエラーメッセージが表示される場合もあります)。<br>\n",
        "   これは、プログラムのどこかにエラーがあることを意味します。<br>\n",
        "   「動作テスト」を使ってエラーを修正し、`AC`を目指してください。\n"
      ],
      "metadata": {
        "id": "RJFhYWr5IHxK"
      }
    },
    {
      "cell_type": "markdown",
      "source": [
        "### ❓️問題１ 数値型の変数を宣言する\n",
        "\n",
        "`main`関数の先頭に、`index`という名前の`int`型の変数を宣言しなさい。\n",
        "\n",
        "**出力例**\n",
        "\n",
        "```txt\n",
        "3\n",
        "```\n"
      ],
      "metadata": {
        "id": "SS9_DO_B1DnB"
      }
    },
    {
      "cell_type": "code",
      "source": [
        "%%writefile practice_01a.cpp\n",
        "#include <iostream>\n",
        "using namespace std;\n",
        "\n",
        "int main() {\n",
        "  // この下に、int型の変数indexを宣言する\n",
        "\n",
        "  // --- ここから下は変更しないこと ---\n",
        "  index = 3.14;\n",
        "  cout << index << endl;\n",
        "}"
      ],
      "metadata": {
        "id": "K67V36R91DnC"
      },
      "execution_count": null,
      "outputs": []
    },
    {
      "cell_type": "code",
      "source": [
        "# @title 動作テスト\n",
        "!g++ -std=c++20 -O2 -Wall -Wextra -o practice_01a practice_01a.cpp && ./practice_01a"
      ],
      "metadata": {
        "cellView": "form",
        "id": "MO9vd4XF1DnC"
      },
      "execution_count": null,
      "outputs": []
    },
    {
      "cell_type": "code",
      "source": [
        "# @title 実行\n",
        "!diff -Z <(echo -e \"3\") <(g++ -std=c++20 -O2 -Wall -Wextra -o practice_01a practice_01a.cpp && ./practice_01a) >nil && test $? -eq 0 && echo -e \"\\033[32;1mAC\" || echo -e \"\\033[31;1mWA\""
      ],
      "metadata": {
        "cellView": "form",
        "id": "msS2gE4J1DnC"
      },
      "execution_count": null,
      "outputs": []
    },
    {
      "cell_type": "code",
      "source": [
        "# @title 🔒️解答例(どうしても問題を解けない場合に見てください)\n",
        "%%writefile practice_01a.cpp\n",
        "#include <iostream>\n",
        "using namespace std;\n",
        "\n",
        "int main() {\n",
        "  // この下に、int型の変数indexを宣言する\n",
        "  int index;\n",
        "\n",
        "  // ここから下は変更しないこと\n",
        "  index = 3.14;\n",
        "  cout << index << endl;\n",
        "}"
      ],
      "metadata": {
        "cellView": "form",
        "id": "cPbLH0ylLfwL"
      },
      "execution_count": null,
      "outputs": []
    },
    {
      "cell_type": "markdown",
      "source": [
        "### ❓️問題２ 小数型の変数を宣言する\n",
        "\n",
        "`main`関数の先頭に、`real`という名前の`double`型の変数を宣言しなさい。\n",
        "\n",
        "**出力例**\n",
        "\n",
        "```txt\n",
        "3.14159\n",
        "```\n"
      ],
      "metadata": {
        "id": "2BzC3XtpN6Uz"
      }
    },
    {
      "cell_type": "code",
      "source": [
        "%%writefile practice_01b.cpp\n",
        "#include <iostream>\n",
        "using namespace std;\n",
        "\n",
        "int main() {\n",
        "  // この下に、double型の変数realを宣言する\n",
        "\n",
        "  // --- ここから下は変更しないこと ---\n",
        "  real = 3.14159;\n",
        "  cout << real << endl;\n",
        "}"
      ],
      "metadata": {
        "id": "Pty-ZKAqN6U0"
      },
      "execution_count": null,
      "outputs": []
    },
    {
      "cell_type": "code",
      "source": [
        "# @title 動作テスト\n",
        "!g++ -std=c++20 -O2 -Wall -Wextra -o practice_01b practice_01b.cpp && ./practice_01b"
      ],
      "metadata": {
        "cellView": "form",
        "id": "3lZF3wwTN6U0"
      },
      "execution_count": null,
      "outputs": []
    },
    {
      "cell_type": "code",
      "source": [
        "# @title 実行\n",
        "!diff -Z <(echo -e \"3.14159\") <(g++ -std=c++20 -O2 -Wall -Wextra -o practice_01b practice_01b.cpp && ./practice_01b) >nil && test $? -eq 0 && echo -e \"\\033[32;1mAC\" || echo -e \"\\033[31;1mWA\""
      ],
      "metadata": {
        "cellView": "form",
        "id": "uDHkvOqcN6U0"
      },
      "execution_count": null,
      "outputs": []
    },
    {
      "cell_type": "code",
      "source": [
        "# @title 🔒解答例(どうしても問題を解けない場合に見てください)\n",
        "%%writefile practice_01b.cpp\n",
        "#include <iostream>\n",
        "using namespace std;\n",
        "\n",
        "int main() {\n",
        "  // この下に、double型の変数realを宣言する\n",
        "  double real;\n",
        "\n",
        "  // ここから下は変更しないこと\n",
        "  real = 3.14159;\n",
        "  cout << real << endl;\n",
        "}"
      ],
      "metadata": {
        "cellView": "form",
        "id": "VO7eCIJvN6U0"
      },
      "execution_count": null,
      "outputs": []
    },
    {
      "cell_type": "markdown",
      "source": [
        "### ❓️問題３ 文字列型の変数を宣言する\n",
        "\n",
        "`main`関数の先頭に、`text`という名前の`string`型の変数を宣言しなさい。\n",
        "\n",
        "**出力例**\n",
        "\n",
        "```txt\n",
        "3.1415926539\n",
        "```\n"
      ],
      "metadata": {
        "id": "YtNQKW9ZO5B-"
      }
    },
    {
      "cell_type": "code",
      "source": [
        "%%writefile practice_01c.cpp\n",
        "#include <iostream>\n",
        "#include <string>\n",
        "using namespace std;\n",
        "\n",
        "int main() {\n",
        "  // この下に、string型の変数textを宣言する\n",
        "\n",
        "  // --- ここから下は変更しないこと ---\n",
        "  text = \"3.1415926539\";\n",
        "  cout << text << endl;\n",
        "}"
      ],
      "metadata": {
        "id": "TrxWPkswO5B-"
      },
      "execution_count": null,
      "outputs": []
    },
    {
      "cell_type": "code",
      "source": [
        "# @title 動作テスト\n",
        "!g++ -std=c++20 -O2 -Wall -Wextra -o practice_01c practice_01c.cpp && ./practice_01c"
      ],
      "metadata": {
        "cellView": "form",
        "id": "wT35cM1DO5B_"
      },
      "execution_count": null,
      "outputs": []
    },
    {
      "cell_type": "code",
      "source": [
        "# @title 実行\n",
        "!diff -Z <(echo -e \"3.1415926539\") <(g++ -std=c++20 -O2 -Wall -Wextra -o practice_01c practice_01c.cpp && ./practice_01c) >nil && test $? -eq 0 && echo -e \"\\033[32;1mAC\" || echo -e \"\\033[31;1mWA\""
      ],
      "metadata": {
        "cellView": "form",
        "id": "RJdC0uNvO5B_"
      },
      "execution_count": null,
      "outputs": []
    },
    {
      "cell_type": "code",
      "source": [
        "# @title 🔒解答例(どうしても問題を解けない場合に見てください)\n",
        "%%writefile practice_01c.cpp\n",
        "#include <iostream>\n",
        "#include <string>\n",
        "using namespace std;\n",
        "\n",
        "int main() {\n",
        "  // この下に、string型の変数textを宣言する\n",
        "  string text;\n",
        "\n",
        "  // ここから下は変更しないこと\n",
        "  text = \"3.1415926539\";\n",
        "  cout << text << endl;\n",
        "}"
      ],
      "metadata": {
        "id": "saNbrRrlO5B_",
        "cellView": "form"
      },
      "execution_count": null,
      "outputs": []
    },
    {
      "cell_type": "markdown",
      "source": [
        "### ❓️問題４ 整数型の変数の宣言と代入\n",
        "\n",
        "以下のプログラムは未完成です。次の1～2の手順にしたがって、プログラムを完成させなさい。\n",
        "\n",
        "1. `int`型の変数`n`を宣言する\n",
        "2. 変数`n`に整数`4096`を代入する\n",
        "\n",
        "**出力例**\n",
        "\n",
        "```txt\n",
        "4096\n",
        "```\n"
      ],
      "metadata": {
        "id": "yZyFx6vlVdGI"
      }
    },
    {
      "cell_type": "code",
      "source": [
        "%%writefile practice_01d.cpp\n",
        "#include <iostream>\n",
        "using namespace std;\n",
        "\n",
        "int main() {\n",
        "  // この下に1～2を行うプログラムを書く\n",
        "\n",
        "  // --- ここから下は変更しないこと ---\n",
        "  cout << n << endl;\n",
        "}"
      ],
      "metadata": {
        "id": "-44_QGbDVdGJ"
      },
      "execution_count": null,
      "outputs": []
    },
    {
      "cell_type": "code",
      "source": [
        "# @title 動作テスト\n",
        "!g++ -std=c++20 -O2 -Wall -Wextra -o practice_01d practice_01d.cpp && ./practice_01d"
      ],
      "metadata": {
        "cellView": "form",
        "id": "H236yPdGVdGJ"
      },
      "execution_count": null,
      "outputs": []
    },
    {
      "cell_type": "code",
      "source": [
        "# @title 実行\n",
        "!diff -Z <(echo -e \"4096\") <(g++ -std=c++20 -O2 -Wall -Wextra -o practice_01d practice_01d.cpp && ./practice_01d) >nil && test $? -eq 0 && echo -e \"\\033[32;1mAC\" || echo -e \"\\033[31;1mWA\""
      ],
      "metadata": {
        "id": "iHgtrBBDVdGJ",
        "cellView": "form"
      },
      "execution_count": null,
      "outputs": []
    },
    {
      "cell_type": "code",
      "source": [
        "# @title 🔒解答例(どうしても問題を解けない場合に見てください)\n",
        "%%writefile practice_01d.cpp\n",
        "#include <iostream>\n",
        "using namespace std;\n",
        "\n",
        "int main() {\n",
        "  // この下に1～2を行うプログラムを書く\n",
        "  int n;\n",
        "  n = 4096;\n",
        "\n",
        "  // ここから下は変更しないこと\n",
        "  cout << n << endl;\n",
        "  }"
      ],
      "metadata": {
        "cellView": "form",
        "id": "EEic9doFVdGJ"
      },
      "execution_count": null,
      "outputs": []
    },
    {
      "cell_type": "markdown",
      "source": [
        "### ❓️問題５ 文字列型の変数の宣言と代入\n",
        "\n",
        "以下のプログラムは未完成です。次の1～4の手順にしたがって、プログラムを完成させなさい。\n",
        "\n",
        "1. `string`型の変数`s`を宣言する\n",
        "2. 変数`s`に、文字列`\"Hello\"`を代入する(大文字と小文字を正確に書くこと)\n",
        "3. `string`型の変数`t`を宣言する\n",
        "4. 変数`t`に、文字列`\"World\"`を代入する(大文字と小文字を正確に書くこと)\n",
        "\n",
        "**出力例**\n",
        "\n",
        "```txt\n",
        "Hello, World!\n",
        "```\n"
      ],
      "metadata": {
        "id": "yNvqQa8rKEab"
      }
    },
    {
      "cell_type": "code",
      "source": [
        "%%writefile practice_01e.cpp\n",
        "#include <iostream>\n",
        "#include <string>\n",
        "using namespace std;\n",
        "\n",
        "int main() {\n",
        "  // この下に1～4を行うプログラムを書く\n",
        "\n",
        "  // --- ここから下は変更しないこと ---\n",
        "  cout << s << \", \" << t << \"!\" << endl;\n",
        "}"
      ],
      "metadata": {
        "id": "MZ9eVTGiKEac"
      },
      "execution_count": null,
      "outputs": []
    },
    {
      "cell_type": "code",
      "source": [
        "# @title 動作テスト\n",
        "!g++ -std=c++20 -O2 -Wall -Wextra -o practice_01e practice_01e.cpp && ./practice_01e"
      ],
      "metadata": {
        "cellView": "form",
        "id": "xj4pZ-MlKEac"
      },
      "execution_count": null,
      "outputs": []
    },
    {
      "cell_type": "code",
      "source": [
        "# @title 実行\n",
        "!diff -Z <(echo -e \"Hello, World!\") <(g++ -std=c++20 -O2 -Wall -Wextra -o practice_01e practice_01e.cpp && ./practice_01e) >nil && test $? -eq 0 && echo -e \"\\033[32;1mAC\" || echo -e \"\\033[31;1mWA\""
      ],
      "metadata": {
        "cellView": "form",
        "id": "SsZvVBJ_KEac"
      },
      "execution_count": null,
      "outputs": []
    },
    {
      "cell_type": "code",
      "source": [
        "# @title 🔒解答例(どうしても問題を解けない場合に見てください)\n",
        "%%writefile practice_01e.cpp\n",
        "#include <iostream>\n",
        "#include <string>\n",
        "using namespace std;\n",
        "\n",
        "int main() {\n",
        "  // この下に1～4を行うプログラムを書く\n",
        "  string s;\n",
        "  s = \"Hello\";\n",
        "  string t;\n",
        "  t = \"World\";\n",
        "\n",
        "  // ここから下は変更しないこと\n",
        "  cout << s << \", \" << t << \"!\" << endl;\n",
        "  }"
      ],
      "metadata": {
        "cellView": "form",
        "id": "zIbdt2vzKEac"
      },
      "execution_count": null,
      "outputs": []
    },
    {
      "cell_type": "markdown",
      "source": [
        "### ❓️問題６ さまざまな型の変数の宣言と代入\n",
        "\n",
        "以下のプログラムは未完成です。次の1～6の手順にしたがって、プログラムを完成させなさい。\n",
        "\n",
        "1. `int`型の変数`a`を宣言する\n",
        "2. 変数`a`に整数`2`を代入する\n",
        "3. `string`型の変数`b`を宣言する\n",
        "4. 変数`b`に、文字列`\"平方根\"`を代入する\n",
        "5. `double`型の変数`c`を宣言する\n",
        "6. 変数`c`に、小数`1.4142`を代入する\n",
        "\n",
        "**出力例**\n",
        "\n",
        "```txt\n",
        "2の平方根は1.4142\n",
        "```\n"
      ],
      "metadata": {
        "id": "fpzmrGZKLj4h"
      }
    },
    {
      "cell_type": "code",
      "source": [
        "%%writefile practice_01f.cpp\n",
        "#include <iostream>\n",
        "#include <string>\n",
        "using namespace std;\n",
        "\n",
        "int main() {\n",
        "  // この下に、1～6を行うプログラムを書く\n",
        "\n",
        "  // --- ここから下は変更しないこと ---\n",
        "  cout << a << \"の \" << b << \"は\" << c << endl;\n",
        "}"
      ],
      "metadata": {
        "id": "E0p7GpScLj4i"
      },
      "execution_count": null,
      "outputs": []
    },
    {
      "cell_type": "code",
      "source": [
        "# @title 動作テスト\n",
        "!g++ -std=c++20 -O2 -Wall -Wextra -o practice_01f practice_01f.cpp && ./practice_01f"
      ],
      "metadata": {
        "cellView": "form",
        "id": "wqc3yCoBLj4i"
      },
      "execution_count": null,
      "outputs": []
    },
    {
      "cell_type": "code",
      "source": [
        "# @title 実行\n",
        "!diff -Z <(echo -e \"2の平方根は1.4142\") <(g++ -std=c++20 -O2 -Wall -Wextra -o practice_01f practice_01f.cpp && ./practice_01f) >nil && test $? -eq 0 && echo -e \"\\033[32;1mAC\" || echo -e \"\\033[31;1mWA\""
      ],
      "metadata": {
        "cellView": "form",
        "id": "QuaDmqXgLj4i"
      },
      "execution_count": null,
      "outputs": []
    },
    {
      "cell_type": "code",
      "source": [
        "# @title 🔒解答例(どうしても問題を解けない場合に見てください)\n",
        "%%writefile practice_01f.cpp\n",
        "#include <iostream>\n",
        "#include <string>\n",
        "using namespace std;\n",
        "\n",
        "int main() {\n",
        "  // この下に、1～6を行うプログラムを書く\n",
        "  int a;\n",
        "  a = 2;\n",
        "  string b;\n",
        "  b = \"平方根\";\n",
        "  double c;\n",
        "  c = 1.4142;\n",
        "\n",
        "  // ここから下は変更しないこと\n",
        "  cout << a << \"の\" << b << \"は\" << c << endl;\n",
        "  }"
      ],
      "metadata": {
        "cellView": "form",
        "id": "GTEH85g2Lj4i"
      },
      "execution_count": null,
      "outputs": []
    },
    {
      "cell_type": "markdown",
      "source": [
        "### ❓️問題７ 数値型の変数を初期化する\n",
        "\n",
        "変数`a`と`b`を初期化して、出力例と同じ出力結果になるようにしなさい。\n",
        "\n",
        "**出力例**\n",
        "\n",
        "```txt\n",
        "2025\n",
        "3.5\n",
        "```\n"
      ],
      "metadata": {
        "id": "_ZmcIui8nEmd"
      }
    },
    {
      "cell_type": "code",
      "source": [
        "%%writefile practice_02a.cpp\n",
        "#include <iostream>\n",
        "using namespace std;\n",
        "\n",
        "int main() {\n",
        "  // 出力例と同じ出力になるように、変数aとbを初期化する\n",
        "  int a;\n",
        "  double b;\n",
        "\n",
        "  // --- ここから下は変更しないこと ---\n",
        "  cout << a << endl; // 2025\n",
        "  cout << b << endl; // 3.5\n",
        "}"
      ],
      "metadata": {
        "id": "HF3uWmPanIL6"
      },
      "execution_count": null,
      "outputs": []
    },
    {
      "cell_type": "code",
      "source": [
        "# @title 動作テスト\n",
        "!g++ -std=c++20 -O2 -Wall -Wextra -o practice_02a practice_02a.cpp && ./practice_02a"
      ],
      "metadata": {
        "cellView": "form",
        "id": "z6nEd0OT6AYZ"
      },
      "execution_count": null,
      "outputs": []
    },
    {
      "cell_type": "code",
      "source": [
        "# @title 実行\n",
        "!diff -Z <(echo -e \"2025\\n3.5\") <(g++ -std=c++20 -O2 -Wall -Wextra -o practice_02a practice_02a.cpp && ./practice_02a) >nil && test $? -eq 0 && echo -e \"\\033[32;1mAC\" || echo -e \"\\033[31;1mWA\""
      ],
      "metadata": {
        "cellView": "form",
        "id": "D1FAxSkTqrLK"
      },
      "execution_count": null,
      "outputs": []
    },
    {
      "cell_type": "code",
      "source": [
        "# @title 🔒解答例(どうしても問題を解けない場合に見てください)\n",
        "%%writefile practice_02a.cpp\n",
        "#include <iostream>\n",
        "using namespace std;\n",
        "\n",
        "int main() {\n",
        "  // 出力例と同じ出力になるように、変数aとbを初期化する\n",
        "  int a = 2025;\n",
        "  double b = 3.5;\n",
        "\n",
        "  // ここから下は変更しないこと\n",
        "  cout << a << endl; // 2025\n",
        "  cout << b << endl; // 3.5\n",
        "}"
      ],
      "metadata": {
        "cellView": "form",
        "id": "VsW3jUvzN9WE"
      },
      "execution_count": null,
      "outputs": []
    },
    {
      "cell_type": "markdown",
      "source": [
        "### ❓️問題８ 文字列型の変数を初期化する\n",
        "\n",
        "変数aとbを初期化して、出力例と同じ値が出力されるようにしなさい。\n",
        "\n",
        "大文字と小文字を正確に書くこと。\n",
        "\n",
        "**出力例**\n",
        "\n",
        "```txt\n",
        "All your base are belong to us.\n",
        "```"
      ],
      "metadata": {
        "id": "ufR5bZKtrjJd"
      }
    },
    {
      "cell_type": "code",
      "source": [
        "%%writefile practice_02b.cpp\n",
        "#include <iostream>\n",
        "#include <string>\n",
        "using namespace std;\n",
        "\n",
        "int main() {\n",
        "  // 出力例と同じ出力になるように、変数aとbを初期化する\n",
        "  string a;\n",
        "  string b;\n",
        "\n",
        "  // --- ここから下は変更しないこと ---\n",
        "  cout << a + \" your base are \" + b + \" to us.\" << endl; // All your base are belong to us.\n",
        "}"
      ],
      "metadata": {
        "id": "KxuEH6ierlca"
      },
      "execution_count": null,
      "outputs": []
    },
    {
      "cell_type": "code",
      "source": [
        "# @title 動作テスト\n",
        "!g++ -std=c++20 -O2 -Wall -Wextra -o practice_02b practice_02b.cpp && ./practice_02b"
      ],
      "metadata": {
        "cellView": "form",
        "id": "SaEPsyeV6x6T"
      },
      "execution_count": null,
      "outputs": []
    },
    {
      "cell_type": "code",
      "source": [
        "# @title 実行\n",
        "!diff -Z <(echo -e \"All your base are belong to us.\") <(g++ -std=c++20 -O2 -Wall -Wextra -o practice_02b practice_02b.cpp && ./practice_02b) >nil && test $? -eq 0 && echo -e \"\\033[32;1mAC\" || echo -e \"\\033[31;1mWA\""
      ],
      "metadata": {
        "cellView": "form",
        "id": "0p5fi5S00fZ-"
      },
      "execution_count": null,
      "outputs": []
    },
    {
      "cell_type": "code",
      "source": [
        "# @title 🔒解答例(どうしても問題を解けない場合に見てください)\n",
        "%%writefile practice_02b.cpp\n",
        "#include <iostream>\n",
        "#include <string>\n",
        "using namespace std;\n",
        "\n",
        "int main() {\n",
        "  // 出力例と同じ出力になるように、変数aとbを初期化する\n",
        "  string a = \"All\";\n",
        "  string b = \"belong\";\n",
        "\n",
        "  // ここから下は変更しないこと\n",
        "  cout << a + \" your base are \" + b + \" to us.\" << endl; // All your base are belong to us.\n",
        "}"
      ],
      "metadata": {
        "cellView": "form",
        "id": "8MvU5O20QqPR"
      },
      "execution_count": null,
      "outputs": []
    },
    {
      "cell_type": "markdown",
      "source": [
        "### ❓️問題９ 変数の値を出力する\n",
        "\n",
        "以下に「野鳥のデータを出力するプログラム」があります。<br>\n",
        "スズメのデータを出力する部分は完成しています。キジバトのデータは入力済みです。<br>\n",
        "スズメのプログラムを参考にして、キジバトのデータを出力するプログラムを追加しなさい。\n",
        "\n",
        "データを出力するには、`cout`(シー・アウト)とデータを`<<`記号でつなぎます。\n",
        "\n",
        "改行には`endl`(エンド・エル)を使います。\n",
        "\n",
        "**出力例**\n",
        "\n",
        "```txt\n",
        "スズメ,13cm,24g\n",
        "キジバト,34cm,220g\n",
        "```"
      ],
      "metadata": {
        "id": "gwZTojg7n7Un"
      }
    },
    {
      "cell_type": "code",
      "source": [
        "%%writefile practice_02c.cpp\n",
        "#include <iostream>\n",
        "#include <string>\n",
        "using namespace std;\n",
        "\n",
        "int main() {\n",
        "  // --- ここから下は変更しないこと ---\n",
        "\n",
        "  string a = \"スズメ\";\n",
        "  int b = 13;\n",
        "  int c = 24;\n",
        "\n",
        "  // スズメの情報を出力する\n",
        "  cout << a << \",\";\n",
        "  cout << b << \"cm,\";\n",
        "  cout << c << \"g\" << endl;\n",
        "\n",
        "  string d = \"キジバト\";\n",
        "  int e = 34;\n",
        "  int f = 220;\n",
        "\n",
        "  // --- ここから上は変更しないこと ---\n",
        "\n",
        "  // この下に、キジバトの情報を出力するプログラムを書く\n",
        "\n",
        "}"
      ],
      "metadata": {
        "id": "pK42aPg6n7Uo"
      },
      "execution_count": null,
      "outputs": []
    },
    {
      "cell_type": "code",
      "source": [
        "# @title 動作テスト\n",
        "!g++ -std=c++20 -O2 -Wall -Wextra -o practice_02c practice_02c.cpp && ./practice_02c"
      ],
      "metadata": {
        "cellView": "form",
        "id": "K6zs7c6un7Uo"
      },
      "execution_count": null,
      "outputs": []
    },
    {
      "cell_type": "code",
      "source": [
        "# @title 実行\n",
        "!diff -Z <(echo -e \"スズメ,13cm,24g\\nキジバト,34cm,220g\") <(g++ -std=c++20 -O2 -Wall -Wextra -o practice_02c practice_02c.cpp && ./practice_02c) >nil && test $? -eq 0 && echo -e \"\\033[32;1mAC\" || echo -e \"\\033[31;1mWA\""
      ],
      "metadata": {
        "cellView": "form",
        "id": "R4f6jfJCn7Uo"
      },
      "execution_count": null,
      "outputs": []
    },
    {
      "cell_type": "code",
      "source": [
        "# @title 🔒解答例(どうしても問題を解けない場合に見てください)\n",
        "%%writefile practice_02c.cpp\n",
        "#include <iostream>\n",
        "#include <string>\n",
        "using namespace std;\n",
        "\n",
        "int main() {\n",
        "  // ここは変更しない\n",
        "  string a = \"スズメ\";\n",
        "  int b = 13;\n",
        "  int c = 24;\n",
        "\n",
        "  cout << a << \",\";\n",
        "  cout << b << \"cm,\";\n",
        "  cout << c << \"g\" << endl;\n",
        "\n",
        "  string d = \"キジバト\";\n",
        "  int e = 34;\n",
        "  int f = 220;\n",
        "  // ここから上は変更しない\n",
        "\n",
        "  // この下に、キジバトの情報を出力するプログラムを書く\n",
        "  cout << d << \",\";\n",
        "  cout << e << \"cm,\";\n",
        "  cout << f << \"g\" << endl;\n",
        "}"
      ],
      "metadata": {
        "cellView": "form",
        "id": "vK3lqbhNn7Uo"
      },
      "execution_count": null,
      "outputs": []
    },
    {
      "cell_type": "markdown",
      "source": [
        "### ❓️問題１０ 変数を宣言し、初期化し、計算し、出力する\n",
        "\n",
        "以下の1～7の処理を行うプログラムを作成しなさい。<br>\n",
        "変数の出力には`cout`と`<<`を使います。\n",
        "\n",
        "1. `int`型の変数`i`を宣言し、整数`3`で初期化する\n",
        "2. `double`型の変数`d`を宣言し、小数`0.14159`で初期化する\n",
        "3. `string`型の変数`s`を宣言し、文字列`\"Hello, World!\"`で初期化する(大文字と小文字、記号、空白まで、正確に同じ文字列を書くこと)\n",
        "4. `i`を出力して、改行する\n",
        "5. `i`を`19`倍した結果を出力して、改行する\n",
        "6. `i`と`d`を足した結果を出力して、改行する\n",
        "7. `s`を出力して、改行する\n",
        "\n",
        "**出力例**\n",
        "\n",
        "```txt\n",
        "3.14159\n",
        "57\n",
        "```\n"
      ],
      "metadata": {
        "id": "_5ofEQxcnVlB"
      }
    },
    {
      "cell_type": "code",
      "source": [
        "%%writefile practice_02d.cpp\n",
        "#include <iostream>\n",
        "#include <string>\n",
        "using namespace std;\n",
        "\n",
        "int main() {\n",
        "  // この下に、1～7を行うプログラムを書く\n",
        "\n",
        "}"
      ],
      "metadata": {
        "id": "mYq3JNtRnVlB"
      },
      "execution_count": null,
      "outputs": []
    },
    {
      "cell_type": "code",
      "source": [
        "# @title 動作テスト\n",
        "!g++ -std=c++20 -O2 -Wall -Wextra -o practice_02d practice_02d.cpp && ./practice_02d"
      ],
      "metadata": {
        "cellView": "form",
        "id": "1J5K2nSWnVlC"
      },
      "execution_count": null,
      "outputs": []
    },
    {
      "cell_type": "code",
      "source": [
        "# @title 実行\n",
        "!diff -Z <(echo -e \"3\\n57\\n3.14159\\nHello, World!\") <(g++ -std=c++20 -O2 -Wall -Wextra -o practice_02d practice_02d.cpp && ./practice_02d) >nil && test $? -eq 0 && echo -e \"\\033[32;1mAC\" || echo -e \"\\033[31;1mWA\""
      ],
      "metadata": {
        "cellView": "form",
        "id": "ViS83hPFnVlC"
      },
      "execution_count": null,
      "outputs": []
    },
    {
      "cell_type": "code",
      "source": [
        "# @title 🔒解答例(どうしても問題を解けない場合に見てください)\n",
        "%%writefile practice_02d.cpp\n",
        "#include <iostream>\n",
        "#include <string>\n",
        "using namespace std;\n",
        "\n",
        "int main() {\n",
        "  // この下に、1～7を行うプログラムを書く\n",
        "  int i = 3;\n",
        "  double d = 0.14159;\n",
        "  string s = \"Hello, World!\";\n",
        "\n",
        "  cout << i << endl;\n",
        "  cout << i * 19 << endl;\n",
        "  cout << i + d << endl;\n",
        "  cout << s << endl;\n",
        "}"
      ],
      "metadata": {
        "cellView": "form",
        "id": "v6kzWyTf4n1i"
      },
      "execution_count": null,
      "outputs": []
    },
    {
      "cell_type": "markdown",
      "source": [
        "### ❓️問題１１ 代入を初期化で置き換える\n",
        "\n",
        "変数aの代入を、初期化に置き換えなさい。\n",
        "\n",
        "**出力例**\n",
        "\n",
        "```txt\n",
        "火星の一年は687日です\n",
        "```\n"
      ],
      "metadata": {
        "id": "8A_RDs_pSYDm"
      }
    },
    {
      "cell_type": "code",
      "source": [
        "%%writefile practice_02e.cpp\n",
        "#include <iostream>\n",
        "using namespace std;\n",
        "\n",
        "int main() {\n",
        "  // 出力例と同じ結果となるように、変数aを初期化し、代入を削除する\n",
        "  int a;\n",
        "  a = 365;\n",
        "\n",
        "  // --- ここから下は変更しないこと ---\n",
        "  cout << \"火星の一年は\" << a + \"日です\" << endl;\n",
        "}"
      ],
      "metadata": {
        "id": "K3l8F0XtSYDn"
      },
      "execution_count": null,
      "outputs": []
    },
    {
      "cell_type": "code",
      "source": [
        "# @title 動作テスト\n",
        "!g++ -std=c++20 -O2 -Wall -Wextra -o practice_02e practice_02e.cpp && ./practice_02e"
      ],
      "metadata": {
        "cellView": "form",
        "id": "B1wgA2tgSYDo"
      },
      "execution_count": null,
      "outputs": []
    },
    {
      "cell_type": "code",
      "source": [
        "# @title 実行\n",
        "!diff -Z <(echo -e \"火星の一年は687日です\") <(g++ -std=c++20 -O2 -Wall -Wextra -o practice_02e practice_02e.cpp && ./practice_02e) >nil && test $? -eq 0 && echo -e \"\\033[32;1mAC\" || echo -e \"\\033[31;1mWA\""
      ],
      "metadata": {
        "cellView": "form",
        "id": "yIoSoWg9SYDo"
      },
      "execution_count": null,
      "outputs": []
    },
    {
      "cell_type": "code",
      "source": [
        "# @title 🔒解答例(どうしても問題を解けない場合に見てください)\n",
        "%%writefile practice_02e.cpp\n",
        "#include <iostream>\n",
        "using namespace std;\n",
        "\n",
        "int main() {\n",
        "  // 出力例と同じ結果となるように、変数aを初期化し、代入を削除する\n",
        "  int a = 687;\n",
        "\n",
        "  // ここから下は変更しないこと\n",
        "  cout << \"火星の一年は\" << a + \"日です\" << endl;\n",
        "}"
      ],
      "metadata": {
        "cellView": "form",
        "id": "sA5Yy_inSYDo"
      },
      "execution_count": null,
      "outputs": []
    },
    {
      "cell_type": "markdown",
      "source": [
        "### ❓️問題１２ 意図した型を選ぶ\n",
        "\n",
        "次のプログラムは、ある人物の情報を出力するプログラムです。<br>\n",
        "ところが、変数の型が間違っているため、出力例と同じ結果になりません。出力例と同じ結果が得られるように、変数の型を修正しなさい。\n",
        "\n",
        "**出力例**\n",
        "\n",
        "```txt\n",
        "名前:Isaac Asimov\n",
        "年齢:30\n",
        "身長:1.75m\n",
        "体重:82.5kg\n",
        "```\n"
      ],
      "metadata": {
        "id": "FkdTcGj_1CSr"
      }
    },
    {
      "cell_type": "code",
      "source": [
        "%%writefile practice_03a.cpp\n",
        "#include <iostream>\n",
        "#include <string>\n",
        "using namespace std;\n",
        "\n",
        "int main() {\n",
        "  // 以下の4つの変数の型を、データに合わせて変更したり、しなかったりする\n",
        "  int name = \"Isaac Asimov\";\n",
        "  int age = 30;\n",
        "  int height = 1.75;\n",
        "  int weight = 82.5;\n",
        "\n",
        "  // --- ここから下は変更しないこと ---\n",
        "  cout << \"名前:\" << name << endl;           // 名前:Isaac Asimov\n",
        "  cout << \"年齢:\" << age << endl;            // 年齢:30\n",
        "  cout << \"身長:\" << height << \"m\" << endl;  // 身長:1.75m\n",
        "  cout << \"体重:\" << weight << \"kg\" << endl; // 体重:82.5kg\n",
        "}"
      ],
      "metadata": {
        "id": "QaqOXX3Z1E1c"
      },
      "execution_count": null,
      "outputs": []
    },
    {
      "cell_type": "code",
      "source": [
        "# @title 動作テスト\n",
        "!g++ -std=c++20 -O2 -Wall -Wextra -o practice_03a practice_03a.cpp && ./practice_03a"
      ],
      "metadata": {
        "cellView": "form",
        "id": "uPLDAM_A7YL7"
      },
      "execution_count": null,
      "outputs": []
    },
    {
      "cell_type": "code",
      "source": [
        "# @title 実行\n",
        "!diff -Z <(echo -e \"名前:Isaac Asimov\\n年齢:30\\n身長:1.75m\\n体重:82.5kg\") <(g++ -std=c++20 -O2 -Wall -Wextra -o practice_03a practice_03a.cpp && ./practice_03a) >nil && test $? -eq 0 && echo -e \"\\033[32;1mAC\" || echo -e \"\\033[31;1mWA\""
      ],
      "metadata": {
        "id": "zJfAeXQx8O-D",
        "cellView": "form"
      },
      "execution_count": null,
      "outputs": []
    },
    {
      "cell_type": "code",
      "source": [
        "# @title 🔒解答例(どうしても問題を解けない場合に見てください)\n",
        "%%writefile practice_03a.cpp\n",
        "#include <iostream>\n",
        "#include <string>\n",
        "using namespace std;\n",
        "\n",
        "int main() {\n",
        "  // 以下の4つの変数の型を、データに合わせて変更したり、しなかったりする\n",
        "  string name = \"Isaac Asimov\";\n",
        "  int age = 30;\n",
        "  double height = 1.75;\n",
        "  double weight = 82.5;\n",
        "\n",
        "  // ここから下は変更しないこと\n",
        "  cout << \"名前:\" << name << endl;           // 名前:Isaac Asimov を出力する\n",
        "  cout << \"年齢:\" << age << endl;            // 年齢:30 を出力する\n",
        "  cout << \"身長:\" << height << \"m\" << endl;  // 身長:1.75m を出力する\n",
        "  cout << \"体重:\" << weight << \"kg\" << endl; // 体重:82.5kg を出力する\n",
        "}"
      ],
      "metadata": {
        "cellView": "form",
        "id": "yVjPsW8omzo0"
      },
      "execution_count": null,
      "outputs": []
    },
    {
      "cell_type": "markdown",
      "source": [
        "### ❓️問題１３ 型とデータの種類\n",
        "\n",
        "以下の出力例と同じ結果となるように、プログラム中の`?`記号を適切な変数名で置き換えなさい。\n",
        "\n",
        "**出力例**\n",
        "\n",
        "```txt\n",
        "double型は小数\n",
        "int型は整数\n",
        "string型は文字列\n",
        "unsigned int型は正の整数\n",
        "```\n"
      ],
      "metadata": {
        "id": "WWAgcldgKWFD"
      }
    },
    {
      "cell_type": "code",
      "source": [
        "%%writefile practice_03b.cpp\n",
        "#include <iostream>\n",
        "#include <string>\n",
        "using namespace std;\n",
        "\n",
        "int main() {\n",
        "  // --- 以下の4つの変数宣言は変更しないこと ---\n",
        "  string a = \"整数\";\n",
        "  string b = \"正の整数\";\n",
        "  string c = \"小数\";\n",
        "  string d = \"文字列\";\n",
        "\n",
        "  // 以下の4つの？を、上にある変数名a, b, c, dのどれかに置き換える\n",
        "  cout << \"double型は\" << ？ << endl;\n",
        "  cout << \"int型は\" << ？ << endl;\n",
        "  cout << \"string型は\" << ？ << endl;\n",
        "  cout << \"unsigned int型は\" << ？ << endl;\n",
        "}"
      ],
      "metadata": {
        "id": "htxaxhFMKWFE"
      },
      "execution_count": null,
      "outputs": []
    },
    {
      "cell_type": "code",
      "source": [
        "# @title 動作テスト\n",
        "!g++ -std=c++20 -O2 -Wall -Wextra -o practice_03b practice_03b.cpp && ./practice_03b"
      ],
      "metadata": {
        "cellView": "form",
        "id": "uk-W6SPsKWFF"
      },
      "execution_count": null,
      "outputs": []
    },
    {
      "cell_type": "code",
      "source": [
        "# @title 実行\n",
        "!diff -Z <(echo -e \"double型は小数\\nint型は整数\\nstring型は文字列\\nunsigned int型は正の整数\") <(g++ -std=c++20 -O2 -Wall -Wextra -o practice_03b practice_03b.cpp && ./practice_03b) >nil && test $? -eq 0 && echo -e \"\\033[32;1mAC\" || echo -e \"\\033[31;1mWA\""
      ],
      "metadata": {
        "cellView": "form",
        "id": "cIp49X-CKWFF"
      },
      "execution_count": null,
      "outputs": []
    },
    {
      "cell_type": "code",
      "source": [
        "# @title 🔒解答例(どうしても問題を解けない場合に見てください)\n",
        "%%writefile practice_03b.cpp\n",
        "#include <iostream>\n",
        "#include <string>\n",
        "using namespace std;\n",
        "\n",
        "int main() {\n",
        "  // 以下の4つの変数宣言は変更しないこと\n",
        "  string a = \"整数\";\n",
        "  string b = \"正の整数\";\n",
        "  string c = \"小数\";\n",
        "  string d = \"文字列\";\n",
        "\n",
        "  // 以下の4つの？を、上にある変数名a, b, c, dのどれかに置き換える\n",
        "  cout << \"double型は\" << c << endl;\n",
        "  cout << \"int型は\" << a << endl;\n",
        "  cout << \"string型は\" << d << endl;\n",
        "  cout << \"unsigned int型は\" << b << endl;\n",
        "}"
      ],
      "metadata": {
        "cellView": "form",
        "id": "M8XobUJs60GA"
      },
      "execution_count": null,
      "outputs": []
    },
    {
      "cell_type": "markdown",
      "source": [
        "### ❓️問題１４ 型の混じった計算\n",
        "\n",
        "リンゴを2つ、みかんを3つをまとめて買ったときの、税込みの金額を計算するプログラムがあります。<br>\n",
        "ですが、思ったような出力になりません。以下の出力例と同じ結果となるように、プログラムを修正しなさい。\n",
        "\n",
        "金額の小数点以下は切り捨てること。\n",
        "\n",
        "**出力例**\n",
        "\n",
        "```txt\n",
        "410円\n",
        "```\n"
      ],
      "metadata": {
        "id": "igZy26WA7U_4"
      }
    },
    {
      "cell_type": "code",
      "source": [
        "%%writefile practice_04a.cpp\n",
        "#include <iostream>\n",
        "#include <string>\n",
        "using namespace std;\n",
        "\n",
        "int main() {\n",
        "\n",
        "  int ringo = 100; // リンゴ1個の値段\n",
        "  int mikan = 60;  // みかん1個の値段\n",
        "  int tax = 1.08;  // 消費税率\n",
        "  double price = ringo * 2 + mikan * 3 * tax; // 税込み金額\n",
        "\n",
        "  cout << price <<\"円\" << endl;\n",
        "}"
      ],
      "metadata": {
        "id": "SZcubwjA7U_4"
      },
      "execution_count": null,
      "outputs": []
    },
    {
      "cell_type": "code",
      "source": [
        "# @title 動作テスト\n",
        "!g++ -std=c++20 -O2 -Wall -Wextra -o practice_04a practice_04a.cpp && ./practice_04a"
      ],
      "metadata": {
        "cellView": "form",
        "id": "kijekAWc7U_4"
      },
      "execution_count": null,
      "outputs": []
    },
    {
      "cell_type": "code",
      "source": [
        "# @title 実行\n",
        "!diff -Z <(echo -e \"410円\") <(g++ -std=c++20 -O2 -Wall -Wextra -o practice_04a practice_04a.cpp && ./practice_04a) >nil && test $? -eq 0 && echo -e \"\\033[32;1mAC\" || echo -e \"\\033[31;1mWA\""
      ],
      "metadata": {
        "cellView": "form",
        "id": "LrhmK0Qs7U_4"
      },
      "execution_count": null,
      "outputs": []
    },
    {
      "cell_type": "code",
      "source": [
        "# @title 🔒解答例(どうしても問題を解けない場合に見てください)\n",
        "%%writefile practice_04a.cpp\n",
        "#include <iostream>\n",
        "#include <string>\n",
        "using namespace std;\n",
        "\n",
        "int main() {\n",
        "\n",
        "  int ringo = 100; // リンゴ1個の値段\n",
        "  int mikan = 60;  // みかん1個の値段\n",
        "  double tax = 1.08;  // 消費税率\n",
        "  int price = (ringo * 2 + mikan * 3) * tax; // 税込み金額\n",
        "\n",
        "  cout << price <<\"円\" << endl;\n",
        "}"
      ],
      "metadata": {
        "cellView": "form",
        "id": "2An4bj0Z7U_4"
      },
      "execution_count": null,
      "outputs": []
    },
    {
      "cell_type": "markdown",
      "source": [
        "### ❓️問題１５ 数値と変数と文字列\n",
        "\n",
        "三角形の面積を求めるプログラムがあります。正しい計算結果が出力されるように、プログラムを修正しなさい。\n",
        "\n",
        ">プログラム中の`cin >>`は、「データを読み込んで変数に代入する」機能です。\n",
        "\n",
        "**入力データ例（１）**\n",
        "\n",
        "```txt\n",
        "10 10\n",
        "```\n",
        "\n",
        "**出力例（１）**\n",
        "\n",
        "```txt\n",
        "底辺10cm, 高さ10cmの三角形の面積は50cm²\n",
        "```\n",
        "\n",
        "**入力データ例（２）**\n",
        "\n",
        "```txt\n",
        "3 5\n",
        "```\n",
        "\n",
        "**出力例（２）**\n",
        "\n",
        "```txt\n",
        "底辺3cm, 高さ5cmの三角形の面積は4.5cm²\n",
        "```\n",
        "\n",
        "**入力データ例（３）**\n",
        "\n",
        "```txt\n",
        "3.5 1.5\n",
        "```\n",
        "\n",
        "**出力例（３）**\n",
        "\n",
        "```txt\n",
        "底辺3.5cm, 高さ1.5cmの三角形の面積は2.625cm²\n",
        "```\n"
      ],
      "metadata": {
        "id": "4bTKcVvhESXb"
      }
    },
    {
      "cell_type": "code",
      "source": [
        "%%writefile practice_04b.cpp\n",
        "#include <iostream>\n",
        "using namespace std;\n",
        "\n",
        "int main() {\n",
        "\n",
        "  int a; // 三角形の底辺の長さ(cm)\n",
        "  int b; // 三角形の高さ(cm)\n",
        "  cin >> a;\n",
        "  cin >> b;\n",
        "\n",
        "  cout << \"底辺\" << a << \"cm, 高さ\" << b << \"cmの三角形の面積は\" << \"a * b / 2\" << \"cm²\" << endl;\n",
        "}"
      ],
      "metadata": {
        "id": "37Rrpv6fESXc"
      },
      "execution_count": null,
      "outputs": []
    },
    {
      "cell_type": "code",
      "source": [
        "# @title 動作テスト\n",
        "!g++ -std=c++20 -O2 -Wall -Wextra -o practice_04b practice_04b.cpp && echo \"この下の点滅をクリックして、三角形の底辺と高さを入力:\" && ./practice_04b"
      ],
      "metadata": {
        "cellView": "form",
        "id": "Yuxg1csqESXc"
      },
      "execution_count": null,
      "outputs": []
    },
    {
      "cell_type": "code",
      "source": [
        "# @title 実行\n",
        "!diff -Z <(echo -e \"底辺10cm, 高さ10cmの三角形の面積は50cm²\\n底辺3cm, 高さ5cmの三角形の面積は7.5cm²\\n底辺3.5cm, 高さ1.5cmの三角形の面積は2.625cm²\") <(g++ -std=c++20 -O2 -Wall -Wextra -o practice_04b practice_04b.cpp && echo 10 10 | ./practice_04b && echo 3 5 | ./practice_04b && echo -e \"3.5 1.5\" | ./practice_04b) && test $? -eq 0 && echo -e \"\\033[32;1mAC\" || echo -e \"\\033[31;1mWA\""
      ],
      "metadata": {
        "cellView": "form",
        "id": "aydYVoSdESXc"
      },
      "execution_count": null,
      "outputs": []
    },
    {
      "cell_type": "code",
      "source": [
        "# @title 🔒解答例(どうしても問題を解けない場合に見てください)\n",
        "%%writefile practice_04b.cpp\n",
        "#include <iostream>\n",
        "using namespace std;\n",
        "\n",
        "int main() {\n",
        "\n",
        "  double a;\n",
        "  double b;\n",
        "  cin >> a;\n",
        "  cin >> b;\n",
        "\n",
        "  cout << \"底辺\" << a << \"cm, 高さ\" << b << \"cmの三角形の面積は\" << a * b / 2 << \"cm²\" << endl;\n",
        "}"
      ],
      "metadata": {
        "cellView": "form",
        "id": "PTiWp7e5ESXc"
      },
      "execution_count": null,
      "outputs": []
    },
    {
      "cell_type": "markdown",
      "source": [
        "### ❓️問題１６ コンテナの運搬\n",
        "\n",
        "Nキログラム以下の荷物を運べるトラックがあります。このトラックは、荷物の総重量がNキログラムを超えると動きません。\n",
        "\n",
        "このトラックで1つXキログラムのコンテナを運ぶとき、一度に載せられるコンテナの最大数を計算するプログラムを作成しなさい。\n",
        "\n",
        "**プログラム例**\n",
        "\n",
        "1. トラックの積載量をあらわす変数`n`を宣言する\n",
        "2. コンテナの重量をあらわす変数`x`を宣言する\n",
        "3. `cin`と`>>`記号を使って、トラックの積載量、コンテナの重量、の順番でデータを読み込む\n",
        "4. 最大数をあらわす変数`a`を宣言する\n",
        "5. トラックに一度に載せられるコンテナの最大数を計算し、変数`a`に代入する\n",
        "6. `cout`と`<<`記号を使って、最大数を出力する\n",
        "7. `endl`で改行を出力する\n",
        "\n",
        "**入力データ例（１）**\n",
        "\n",
        "```txt\n",
        "300 10\n",
        "```\n",
        "\n",
        "**出力例（１）**\n",
        "\n",
        "```txt\n",
        "30\n",
        "```\n",
        "\n",
        "300キロ÷10キロ=30個で、運べる最大数は30個となります。\n",
        "\n",
        "**入力データ例（２）**\n",
        "\n",
        "```txt\n",
        "1000 130\n",
        "```\n",
        "\n",
        "**出力例（２）**\n",
        "\n",
        "```txt\n",
        "7\n",
        "```\n",
        "\n",
        "1000キロ÷130キロ=7.69...個で、運べる最大数は端数切り捨てで7個となります。\n"
      ],
      "metadata": {
        "id": "Sjgxd-L5ELY-"
      }
    },
    {
      "cell_type": "code",
      "source": [
        "%%writefile practice_04f.cpp\n",
        "#include <iostream>\n",
        "using namespace std;\n",
        "\n",
        "int main() {\n",
        "  // この下に、1～7を行うプログラムを書く\n",
        "\n",
        "}"
      ],
      "metadata": {
        "id": "BF8OBoztELY-"
      },
      "execution_count": null,
      "outputs": []
    },
    {
      "cell_type": "code",
      "source": [
        "# @title 動作テスト\n",
        "!g++ -std=c++20 -O2 -Wall -Wextra -o practice_04f practice_04f.cpp && echo \"この下の点滅をクリックして、トラックの積載量とコンテナの重量を入力:\" && ./practice_04f"
      ],
      "metadata": {
        "cellView": "form",
        "id": "C2UNnhNbELY-"
      },
      "execution_count": null,
      "outputs": []
    },
    {
      "cell_type": "code",
      "source": [
        "# @title 実行\n",
        "!diff -Z <(echo -e \"30\\n7\\n0\") <(g++ -std=c++20 -O2 -Wall -Wextra -o practice_04f practice_04f.cpp && echo 300 10 | ./practice_04f && echo 1000 130 | ./practice_04f && echo 500 1000 | ./practice_04f) && test $? -eq 0 && echo -e \"\\033[32;1mAC\" || echo -e \"\\033[31;1mWA\""
      ],
      "metadata": {
        "cellView": "form",
        "id": "sv3FSsSlELY-"
      },
      "execution_count": null,
      "outputs": []
    },
    {
      "cell_type": "code",
      "source": [
        "# @title 🔒解答例(どうしても問題を解けない場合に見てください)\n",
        "%%writefile practice_04f.cpp\n",
        "#include <iostream>\n",
        "using namespace std;\n",
        "\n",
        "int main() {\n",
        "  // この下に、1～7を行うプログラムを書く\n",
        "  int n;\n",
        "  int x;\n",
        "  cin >> n >> x;\n",
        "\n",
        "  int a = n / x;\n",
        "  cout << a << endl;\n",
        "}"
      ],
      "metadata": {
        "cellView": "form",
        "id": "2t4oKhEDELY-"
      },
      "execution_count": null,
      "outputs": []
    },
    {
      "cell_type": "markdown",
      "source": [
        "### ❓️問題１７ 逆にする\n",
        "\n",
        "3つの整数を逆順に出力するプログラムを作成しなさい。\n",
        "\n",
        "**プログラム例**\n",
        "\n",
        "1. 3つの整数をあらわす変数`a`, `b`, `c`を宣言する\n",
        "2. `cin`と`>>`記号を使って、`a`, `b`, `c`の順番で整数を読み込む\n",
        "3. `cout`と`<<`記号を使って、3つの整数をひとつの空白で区切り、読み込んだときとは逆の順番で出力する\n",
        "7. `endl`で改行を出力する\n",
        "\n",
        "**入力データ例（１）**\n",
        "\n",
        "```txt\n",
        "1 2 3\n",
        "```\n",
        "\n",
        "**出力例（１）**\n",
        "\n",
        "```txt\n",
        "3 2 1\n",
        "```\n",
        "\n",
        "**入力データ例（２）**\n",
        "\n",
        "```txt\n",
        "19 17 13\n",
        "```\n",
        "\n",
        "**出力例（２）**\n",
        "\n",
        "```txt\n",
        "13 17 19\n",
        "```\n"
      ],
      "metadata": {
        "id": "R0-RqJZj5f9T"
      }
    },
    {
      "cell_type": "code",
      "source": [
        "%%writefile practice_04d.cpp\n",
        "#include <iostream>\n",
        "using namespace std;\n",
        "\n",
        "int main() {\n",
        "  // この下に、1～4を行うプログラムを書く\n",
        "\n",
        "}"
      ],
      "metadata": {
        "id": "QmpTxoX-5f9U"
      },
      "execution_count": null,
      "outputs": []
    },
    {
      "cell_type": "code",
      "source": [
        "# @title 動作テスト\n",
        "!g++ -std=c++20 -O2 -Wall -Wextra -o practice_04d practice_04d.cpp && echo \"この下の点滅をクリックして、3つの整数を入力:\" && ./practice_04d"
      ],
      "metadata": {
        "cellView": "form",
        "id": "DeGODK1U5f9U"
      },
      "execution_count": null,
      "outputs": []
    },
    {
      "cell_type": "code",
      "source": [
        "# @title 実行\n",
        "!diff -Z <(echo -e \"3 2 1\\n13 17 19\\n9 9 1\") <(g++ -std=c++20 -O2 -Wall -Wextra -o practice_04d practice_04d.cpp && echo 1 2 3 | ./practice_04d && echo 19 17 13 | ./practice_04d && echo 1 9 9 | ./practice_04d) && test $? -eq 0 && echo -e \"\\033[32;1mAC\" || echo -e \"\\033[31;1mWA\""
      ],
      "metadata": {
        "cellView": "form",
        "id": "6S9s7ufZ5f9U"
      },
      "execution_count": null,
      "outputs": []
    },
    {
      "cell_type": "code",
      "source": [
        "# @title 🔒解答例(どうしても問題を解けない場合に見てください)\n",
        "%%writefile practice_04d.cpp\n",
        "#include <iostream>\n",
        "using namespace std;\n",
        "\n",
        "int main() {\n",
        "  // この下に、1～7を行うプログラムを書く\n",
        "  int a, b, c;\n",
        "  cin >> a >> b >> c;\n",
        "  cout << c << \" \" << b << \" \" << a << endl;\n",
        "}"
      ],
      "metadata": {
        "cellView": "form",
        "id": "hhOq70E15f9U"
      },
      "execution_count": null,
      "outputs": []
    },
    {
      "cell_type": "markdown",
      "source": [
        "### ❓️問題１８ 一粒のカロリー\n",
        "\n",
        "チョコレート1パックのカロリーと、チョコレートの個数から、一粒のカロリーを計算するプログラムを作成しなさい。<br>\n",
        "なお、一粒のカロリーは「1パックのカロリー÷個数」で計算できるものとします。\n",
        "\n",
        "**プログラム例**\n",
        "\n",
        "1. 1パックのカロリーをあらわす変数`a`を宣言する\n",
        "2. 個数をあらわす変数`b`を宣言する\n",
        "3. `cin`と`>>`記号を使って、カロリー、個数の順番でデータを読み込む\n",
        "4. 一粒のカロリーをあらわす変数`c`を宣言する\n",
        "5. 一粒のカロリーを計算し、変数`c`に代入する\n",
        "6. `cout`と`<<`記号を使って、一粒のカロリーを出力する\n",
        "7. `endl`で改行を出力する\n",
        "\n",
        "**入力データ例（１）**\n",
        "\n",
        "```txt\n",
        "100 4\n",
        "```\n",
        "\n",
        "**出力例（１）**\n",
        "\n",
        "```txt\n",
        "25\n",
        "```\n",
        "\n",
        "**入力データ例（２）**\n",
        "\n",
        "```txt\n",
        "270 12\n",
        "```\n",
        "\n",
        "**出力例（２）**\n",
        "\n",
        "```txt\n",
        "22.5\n",
        "```\n",
        "\n",
        "**入力データ例（３）**\n",
        "\n",
        "```txt\n",
        "0 24\n",
        "```\n",
        "\n",
        "**出力例（３）**\n",
        "\n",
        "```txt\n",
        "0\n",
        "```\n"
      ],
      "metadata": {
        "id": "14hecvpY1kkq"
      }
    },
    {
      "cell_type": "code",
      "source": [
        "%%writefile practice_04c.cpp\n",
        "#include <iostream>\n",
        "using namespace std;\n",
        "\n",
        "int main() {\n",
        "  // この下に、1～7を行うプログラムを書く\n",
        "\n",
        "}"
      ],
      "metadata": {
        "id": "nYXWLksF1kkr"
      },
      "execution_count": null,
      "outputs": []
    },
    {
      "cell_type": "code",
      "source": [
        "# @title 動作テスト\n",
        "!g++ -std=c++20 -O2 -Wall -Wextra -o practice_04c practice_04c.cpp && echo \"この下の点滅をクリックして、カロリーと個数を入力:\" && ./practice_04c"
      ],
      "metadata": {
        "cellView": "form",
        "id": "49JU7tZJ1kkr"
      },
      "execution_count": null,
      "outputs": []
    },
    {
      "cell_type": "code",
      "source": [
        "# @title 実行\n",
        "!diff -Z <(echo -e \"25\\n22.5\\n0\") <(g++ -std=c++20 -O2 -Wall -Wextra -o practice_04c practice_04c.cpp && echo 100 4 | ./practice_04c && echo 270 12 | ./practice_04c && echo 0 100 | ./practice_04c) && test $? -eq 0 && echo -e \"\\033[32;1mAC\" || echo -e \"\\033[31;1mWA\""
      ],
      "metadata": {
        "cellView": "form",
        "id": "bgCGllHa1kkr"
      },
      "execution_count": null,
      "outputs": []
    },
    {
      "cell_type": "code",
      "source": [
        "# @title 🔒解答例(どうしても問題を解けない場合に見てください)\n",
        "%%writefile practice_04c.cpp\n",
        "#include <iostream>\n",
        "using namespace std;\n",
        "\n",
        "int main() {\n",
        "  // この下に、1～7を行うプログラムを書く\n",
        "  double a;\n",
        "  double b;\n",
        "  cin >> a;\n",
        "  cin >> b;\n",
        "  double c = a / b;\n",
        "  cout << c << endl;\n",
        "}"
      ],
      "metadata": {
        "id": "jiqAzdpJ1kkr"
      },
      "execution_count": null,
      "outputs": []
    },
    {
      "cell_type": "markdown",
      "source": [
        "### ❓️問題１９ ABとBA\n",
        "\n",
        "0でない1桁の整数AとBを順番に並べて、2桁の整数を作る組み合わせを考えます。これは、ABとBAの2種類だけです。`AB + BA`を出力するプログラムを作成しなさい。\n",
        "\n",
        "**プログラム例**\n",
        "\n",
        "1. 2つの整数をあらわす変数`a`, `b`を宣言する\n",
        "2. `cin`と`>>`記号を使って、`a`, `b`の順番で整数を読み込む\n",
        "3. 2桁の整数をあらわす変数`ab`を宣言する\n",
        "4. 10の位が変数`a`の値、1の位が変数`b`の値となる数値を計算し、変数`ab`に代入する\n",
        "5. 2桁の整数をあらわす変数`ba`を宣言する\n",
        "6. 10の位が変数`b`の値、1の位が変数`a`の値となる数値を計算し、変数`ba`に代入する\n",
        "7. `cout`と`<<`記号を使って、`ab + ba`を出力する\n",
        "8. `endl`で改行を出力する\n",
        "\n",
        "**入力データ例（１）**\n",
        "\n",
        "```txt\n",
        "1 2\n",
        "```\n",
        "\n",
        "**出力例（１）**\n",
        "\n",
        "```txt\n",
        "33\n",
        "```\n",
        "\n",
        "A=1, B=2なので、AB=12, BA=21となり、答えはAB + BA = 12 + 21 = 33となります。\n",
        "\n",
        "**入力データ例（２）**\n",
        "\n",
        "```txt\n",
        "9 6\n",
        "```\n",
        "\n",
        "**出力例（２）**\n",
        "\n",
        "```txt\n",
        "165\n",
        "```\n",
        "\n",
        "A=9, B=6なので、AB=96, BA=69となり、答えはAB + BA = 96 + 69 = 165となります。\n"
      ],
      "metadata": {
        "id": "l6lgZVDU8BaT"
      }
    },
    {
      "cell_type": "code",
      "source": [
        "%%writefile practice_04e.cpp\n",
        "#include <iostream>\n",
        "using namespace std;\n",
        "\n",
        "int main() {\n",
        "  // この下に、1～8を行うプログラムを書く\n",
        "\n",
        "}"
      ],
      "metadata": {
        "id": "KomebvQT8BaU"
      },
      "execution_count": null,
      "outputs": []
    },
    {
      "cell_type": "code",
      "source": [
        "# @title 動作テスト\n",
        "!g++ -std=c++20 -O2 -Wall -Wextra -o practice_04e practice_04e.cpp && echo \"この下の点滅をクリックして、2つの1桁の整数を入力:\" && ./practice_04e"
      ],
      "metadata": {
        "cellView": "form",
        "id": "rk8CnBvf8BaU"
      },
      "execution_count": null,
      "outputs": []
    },
    {
      "cell_type": "code",
      "source": [
        "# @title 実行\n",
        "!diff -Z <(echo -e \"33\\n165\\n198\") <(g++ -std=c++20 -O2 -Wall -Wextra -o practice_04e practice_04e.cpp && echo 1 2 | ./practice_04e && echo 9 6 | ./practice_04e && echo 9 9 | ./practice_04e) && test $? -eq 0 && echo -e \"\\033[32;1mAC\" || echo -e \"\\033[31;1mWA\""
      ],
      "metadata": {
        "cellView": "form",
        "id": "90AKHgF48BaU"
      },
      "execution_count": null,
      "outputs": []
    },
    {
      "cell_type": "code",
      "source": [
        "# @title 🔒解答例(どうしても問題を解けない場合に見てください)\n",
        "%%writefile practice_04e.cpp\n",
        "#include <iostream>\n",
        "using namespace std;\n",
        "\n",
        "int main() {\n",
        "  // この下に、1～8を行うプログラムを書く\n",
        "  int a, b;\n",
        "  cin >> a >> b;\n",
        "\n",
        "  int ab = a * 10 + b;\n",
        "  int ba = b * 10 + a;\n",
        "  cout << ab + ba << endl;\n",
        "}"
      ],
      "metadata": {
        "cellView": "form",
        "id": "srmmSQUg8BaU"
      },
      "execution_count": null,
      "outputs": []
    },
    {
      "cell_type": "markdown",
      "source": [
        "### ❓️問題２０ 切手シート\n",
        "\n",
        "縦Y枚、横X枚の切手シートがあります。N個の切手を使ったとき、残った切手の枚数を計算するプログラムを作成しなさい。\n",
        "\n",
        "**プログラム例**\n",
        "\n",
        "1. 切手シートのサイズをあらわす変数`y`, `x`を宣言する\n",
        "2. 使った切手の枚数をあらわす変数`n`を宣言する\n",
        "3. `cin`と`>>`記号を使って、`y`, `x`, `n`の順番でデータを読み込む\n",
        "3. 未使用の切手シートの切手の枚数をあらわす変数`a`を宣言し、切手の枚数で初期化する\n",
        "4. 残った切手の枚数を計算し、`cout`と`<<`記号を使って出力する。\n",
        "5. `endl`で改行を出力する\n",
        "\n",
        "**入力データ例（１）**\n",
        "\n",
        "```txt\n",
        "10 10 57\n",
        "```\n",
        "\n",
        "**出力例（１）**\n",
        "\n",
        "```txt\n",
        "43\n",
        "```\n",
        "\n",
        "未使用の切手シートに含まれる切手の枚数は10x10=100枚です。残った切手の枚数は100-57=43で、43枚になります。\n",
        "\n",
        "**入力データ例（２）**\n",
        "\n",
        "```txt\n",
        "2 5 10\n",
        "```\n",
        "\n",
        "**出力例（２）**\n",
        "\n",
        "```txt\n",
        "0\n",
        "```\n",
        "\n",
        "未使用の切手シートに含まれる切手の枚数は2x5=10枚です。残った切手の枚数は10-10=0で、0枚になります。\n"
      ],
      "metadata": {
        "id": "reaIEZmmK0nJ"
      }
    },
    {
      "cell_type": "code",
      "source": [
        "%%writefile practice_04g.cpp\n",
        "#include <iostream>\n",
        "using namespace std;\n",
        "\n",
        "int main() {\n",
        "  // この下に、1～6を行うプログラムを書く\n",
        "\n",
        "}"
      ],
      "metadata": {
        "id": "6nQKCqYFK0nJ"
      },
      "execution_count": null,
      "outputs": []
    },
    {
      "cell_type": "code",
      "source": [
        "# @title 動作テスト\n",
        "!g++ -std=c++20 -O2 -Wall -Wextra -o practice_04g practice_04g.cpp && echo \"この下の点滅をクリックして、切手シートのサイズと使った切手の枚数を入力:\" && ./practice_04g"
      ],
      "metadata": {
        "cellView": "form",
        "id": "8P9EmhKcK0nJ"
      },
      "execution_count": null,
      "outputs": []
    },
    {
      "cell_type": "code",
      "source": [
        "# @title 実行\n",
        "!diff -Z <(echo -e \"43\\n0\\n100\") <(g++ -std=c++20 -O2 -Wall -Wextra -o practice_04g practice_04g.cpp && echo 10 10 57 | ./practice_04g && echo 2 5 10 | ./practice_04g && echo 10 10 0 | ./practice_04g) && test $? -eq 0 && echo -e \"\\033[32;1mAC\" || echo -e \"\\033[31;1mWA\""
      ],
      "metadata": {
        "cellView": "form",
        "id": "52Wlp1UxK0nJ"
      },
      "execution_count": null,
      "outputs": []
    },
    {
      "cell_type": "code",
      "source": [
        "# @title 🔒解答例(どうしても問題を解けない場合に見てください)\n",
        "%%writefile practice_04g.cpp\n",
        "#include <iostream>\n",
        "using namespace std;\n",
        "\n",
        "int main() {\n",
        "  // この下に、1～6を行うプログラムを書く\n",
        "  int y, x;\n",
        "  int n;\n",
        "  cin >> y >> x >> n;\n",
        "\n",
        "  int a = y * x;\n",
        "  cout << a - n << endl;\n",
        "}"
      ],
      "metadata": {
        "cellView": "form",
        "id": "UGnm_90DK0nJ"
      },
      "execution_count": null,
      "outputs": []
    }
  ]
}
